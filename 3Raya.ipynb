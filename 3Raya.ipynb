{
 "cells": [
  {
   "cell_type": "markdown",
   "id": "cb282828",
   "metadata": {},
   "source": [
    "Nombre: Víctor\n",
    "\n",
    "Apellidos: Toscano Durán\n",
    "\n",
    "## JUEGOS: 3 RAYA\n",
    "\n",
    "He elegido como juego implementar el 3 en rayas, el cuál es un juego con adversario y con incertidumbre en las respuestas de dicho adversario."
   ]
  },
  {
   "cell_type": "code",
   "execution_count": 2,
   "id": "7941c2e6",
   "metadata": {},
   "outputs": [],
   "source": [
    "import numpy as np\n",
    "\n",
    "class TresEnRaya:\n",
    "    def __init__(self):\n",
    "        self.tablero = np.zeros((3, 3))  # Tablero vacío\n",
    "        self.jugador = 1  # Jugador 1 comienza\n",
    "        self.ganador = None\n",
    "        self.fin_del_juego = False\n",
    "\n",
    "    def reiniciar(self):\n",
    "        self.tablero = np.zeros((3, 3))\n",
    "        self.jugador = 1\n",
    "        self.ganador = None\n",
    "        self.fin_del_juego = False\n",
    "\n",
    "    def obtener_movimientos_validos(self):\n",
    "        return np.argwhere(self.tablero == 0)  # Devuelve las coordenadas vacías del tablero\n",
    "\n",
    "    def realizar_movimiento(self, fila, columna):\n",
    "        if self.tablero[fila, columna] == 0 and not self.fin_del_juego:\n",
    "            self.tablero[fila, columna] = self.jugador\n",
    "\n",
    "            # Comprobar si hay un ganador\n",
    "            if self.comprobar_ganador():\n",
    "                self.ganador = self.jugador\n",
    "                self.fin_del_juego = True\n",
    "            # Comprobar si hay empate\n",
    "            elif np.all(self.tablero != 0):\n",
    "                self.fin_del_juego = True\n",
    "\n",
    "            # Cambiar de jugador\n",
    "            self.jugador = 3 - self.jugador\n",
    "\n",
    "    def comprobar_ganador(self):\n",
    "        # Comprobar filas\n",
    "        for fila in range(3):\n",
    "            if self.tablero[fila, 0] == self.tablero[fila, 1] == self.tablero[fila, 2] != 0:\n",
    "                return True\n",
    "\n",
    "        # Comprobar columnas\n",
    "        for columna in range(3):\n",
    "            if self.tablero[0, columna] == self.tablero[1, columna] == self.tablero[2, columna] != 0:\n",
    "                return True\n",
    "\n",
    "        # Comprobar diagonales\n",
    "        if self.tablero[0, 0] == self.tablero[1, 1] == self.tablero[2, 2] != 0:\n",
    "            return True\n",
    "        if self.tablero[0, 2] == self.tablero[1, 1] == self.tablero[2, 0] != 0:\n",
    "            return True\n",
    "\n",
    "        return False\n",
    "\n",
    "    def imprimir_tablero(self):\n",
    "        simbolos = {0: \" \", 1: \"X\", 2: \"O\"}\n",
    "        for fila in range(3):\n",
    "            for columna in range(3):\n",
    "                print(simbolos[self.tablero[fila, columna]], end=\"\")\n",
    "                if columna < 2:\n",
    "                    print(\" | \", end=\"\")\n",
    "            print()\n",
    "            if fila < 2:\n",
    "                print(\"-\" * 9)"
   ]
  },
  {
   "cell_type": "markdown",
   "id": "1e35ff69",
   "metadata": {},
   "source": [
    "Veamos un ejemplo de como ir jugando a este juego colocando fichas y viendo si ha ganado alguién o no."
   ]
  },
  {
   "cell_type": "code",
   "execution_count": 12,
   "id": "a7f2845d",
   "metadata": {},
   "outputs": [
    {
     "name": "stdout",
     "output_type": "stream",
     "text": [
      "  |   |  \n",
      "---------\n",
      "  |   |  \n",
      "---------\n",
      "  |   |  \n",
      "\n",
      " Tras algunos movimientos: \n",
      "\n",
      "O |   |  \n",
      "---------\n",
      "X | X |  \n",
      "---------\n",
      "  |   | O\n"
     ]
    }
   ],
   "source": [
    "game = TresEnRaya()\n",
    "game.imprimir_tablero()  # Tablero vacío\n",
    "game.realizar_movimiento(1, 1)  # Jugador 1 coloca ficha en el centro\n",
    "game.realizar_movimiento(0, 0)  # Jugador 2 coloca ficha en la esquina superior izquierda\n",
    "game.realizar_movimiento(1, 0)  # Jugador 1 coloca ficha en el centro izquierdo\n",
    "game.realizar_movimiento(2, 2)  # Jugador 2 coloca ficha en la esquina inferior derecha\n",
    "print(\"\\n Tras algunos movimientos: \\n\")\n",
    "game.imprimir_tablero()"
   ]
  },
  {
   "cell_type": "code",
   "execution_count": 13,
   "id": "ffb0f339",
   "metadata": {},
   "outputs": [
    {
     "name": "stdout",
     "output_type": "stream",
     "text": [
      "O |   | O\n",
      "---------\n",
      "X | X | O\n",
      "---------\n",
      "X | X | O\n",
      "Ganador: 2\n",
      "Juego terminado: True\n"
     ]
    }
   ],
   "source": [
    "# continuación\n",
    "game.realizar_movimiento(2, 2)\n",
    "game.realizar_movimiento(2, 0)\n",
    "game.realizar_movimiento(1, 2)\n",
    "game.realizar_movimiento(2, 1)\n",
    "game.realizar_movimiento(0, 2)\n",
    "game.imprimir_tablero()\n",
    "\n",
    "\n",
    "print(\"Ganador:\", game.ganador)  \n",
    "print(\"Juego terminado:\", game.fin_del_juego)  "
   ]
  },
  {
   "cell_type": "markdown",
   "id": "f6d353cf",
   "metadata": {},
   "source": [
    "### Explicación código\n",
    "\n",
    "- __init__: El método de inicialización de la clase TresEnRaya. Se encarga de establecer el estado inicial del juego, creando un tablero vacío, definiendo que el jugador 1 comienza, y estableciendo las variables para el ganador y el fin del juego.\n",
    "\n",
    "- reiniciar: Reinicia el juego, restaurando el tablero a su estado inicial y reiniciando las variables del jugador, ganador y fin del juego.\n",
    "\n",
    "- obtener_movimientos_validos: Devuelve las coordenadas de las celdas vacías en el tablero, es decir, las posiciones en las que se pueden realizar movimientos.\n",
    "\n",
    "- realizar_movimiento: Realiza un movimiento en el tablero en la fila y columna especificadas. Verifica si el movimiento es válido y si el juego no ha terminado. Si el movimiento es válido, actualiza el tablero con la ficha del jugador actual. Luego comprueba si hay un ganador o si el juego ha terminado en empate. Finalmente, cambia al siguiente jugador.\n",
    "\n",
    "- comprobar_ganador: Verifica si hay un ganador en el juego. Comprueba todas las filas, columnas y diagonales del tablero para ver si tienen el mismo valor y si no están vacías.\n",
    "\n",
    "- imprimir_tablero: Imprime el tablero actual en la consola. Utiliza símbolos para representar las fichas de los jugadores (espacio en blanco, \"X\" y \"O\") y muestra líneas divisorias para separar las filas."
   ]
  }
 ],
 "metadata": {
  "kernelspec": {
   "display_name": "Python 3 (ipykernel)",
   "language": "python",
   "name": "python3"
  },
  "language_info": {
   "codemirror_mode": {
    "name": "ipython",
    "version": 3
   },
   "file_extension": ".py",
   "mimetype": "text/x-python",
   "name": "python",
   "nbconvert_exporter": "python",
   "pygments_lexer": "ipython3",
   "version": "3.9.13"
  }
 },
 "nbformat": 4,
 "nbformat_minor": 5
}
